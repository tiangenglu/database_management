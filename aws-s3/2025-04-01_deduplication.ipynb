{
 "cells": [
  {
   "cell_type": "code",
   "execution_count": 1,
   "id": "8c7756a2",
   "metadata": {},
   "outputs": [],
   "source": [
    "import os\n",
    "import boto3\n",
    "import pandas as pd\n",
    "import getpass\n",
    "import json"
   ]
  },
  {
   "cell_type": "code",
   "execution_count": 2,
   "id": "a108f52d",
   "metadata": {},
   "outputs": [],
   "source": [
    "with open(\"aws_credential.txt\", 'r') as file:\n",
    "    aws_credential=json.load(file)"
   ]
  },
  {
   "cell_type": "code",
   "execution_count": 3,
   "id": "8e4beaf4",
   "metadata": {},
   "outputs": [],
   "source": [
    "s3=boto3.Session(\n",
    "    profile_name = None, \n",
    "    region_name = 'us-east-2').client(\n",
    "    's3',\n",
    "    aws_access_key_id=aws_credential['access_key'],\n",
    "    aws_secret_access_key=aws_credential['secret_key'])"
   ]
  },
  {
   "cell_type": "code",
   "execution_count": 4,
   "id": "454bf56c",
   "metadata": {},
   "outputs": [],
   "source": [
    "my_prefix = 'messy_data/visa_scraped'\n",
    "bucket_files=[d['Key'].split('/')[-1] for d in \n",
    " s3.list_objects(Bucket = aws_credential['bucket'], \n",
    "                 Prefix = my_prefix)['Contents']]"
   ]
  },
  {
   "cell_type": "code",
   "execution_count": 5,
   "id": "7857b1a9",
   "metadata": {},
   "outputs": [
    {
     "data": {
      "text/plain": [
       "[{'Key': 'messy_data/visa_scraped/iv/iv_2017-03-31.txt',\n",
       "  'LastModified': datetime.datetime(2025, 4, 1, 3, 20, 59, tzinfo=tzutc()),\n",
       "  'ETag': '\"d41d8cd98f00b204e9800998ecf8427e\"',\n",
       "  'ChecksumAlgorithm': ['CRC64NVME'],\n",
       "  'Size': 0,\n",
       "  'StorageClass': 'STANDARD',\n",
       "  'Owner': {'ID': '1818cc2fb0c4e5b6827820ddb895833ec4a41daec0e3fadf00cb46834edc78be'}},\n",
       " {'Key': 'messy_data/visa_scraped/iv/iv_2017-04-30.txt',\n",
       "  'LastModified': datetime.datetime(2025, 4, 1, 3, 20, 59, tzinfo=tzutc()),\n",
       "  'ETag': '\"d41d8cd98f00b204e9800998ecf8427e\"',\n",
       "  'ChecksumAlgorithm': ['CRC64NVME'],\n",
       "  'Size': 0,\n",
       "  'StorageClass': 'STANDARD',\n",
       "  'Owner': {'ID': '1818cc2fb0c4e5b6827820ddb895833ec4a41daec0e3fadf00cb46834edc78be'}}]"
      ]
     },
     "execution_count": 5,
     "metadata": {},
     "output_type": "execute_result"
    }
   ],
   "source": [
    "# don't omit Bucket =, Prefix = \n",
    "s3.list_objects(Bucket = aws_credential['bucket'], Prefix = my_prefix)['Contents'][:2]"
   ]
  },
  {
   "cell_type": "code",
   "execution_count": 6,
   "id": "d4ffeb83",
   "metadata": {},
   "outputs": [],
   "source": [
    "local_file_list=os.listdir(os.getcwd() + r'/nivtxt')"
   ]
  },
  {
   "cell_type": "code",
   "execution_count": 7,
   "id": "af10a05f",
   "metadata": {},
   "outputs": [],
   "source": [
    "files_to_backup =[f for f in local_file_list if f not in bucket_files if f != '.DS_Store'] "
   ]
  },
  {
   "cell_type": "code",
   "execution_count": 8,
   "id": "60f4acc1",
   "metadata": {},
   "outputs": [
    {
     "name": "stdout",
     "output_type": "stream",
     "text": [
      "Files in server are up to date.\n"
     ]
    }
   ],
   "source": [
    "if len(files_to_backup) > 0:\n",
    "    print(f'{len(files_to_backup)} need back up to cloud server.')\n",
    "    for index,element in enumerate(niv_txt_full):\n",
    "        # need to test the following line that includes the full path to local files\n",
    "    with open(os.listdir(os.getcwd() + r'/nivtxt/' + element,\"r\") as file:\n",
    "        s3.put_object(Bucket=aws_credential['bucket'], Key=('messy_data/visa_scraped/niv/' + niv_short[index])) \n",
    "else:\n",
    "    print('Files in server are up to date.')"
   ]
  }
 ],
 "metadata": {
  "hide_input": false,
  "kernelspec": {
   "display_name": "py-3-12-3-preview",
   "language": "python",
   "name": "python-312-preview"
  },
  "language_info": {
   "codemirror_mode": {
    "name": "ipython",
    "version": 3
   },
   "file_extension": ".py",
   "mimetype": "text/x-python",
   "name": "python",
   "nbconvert_exporter": "python",
   "pygments_lexer": "ipython3",
   "version": "3.12.3"
  },
  "toc": {
   "base_numbering": 1,
   "nav_menu": {},
   "number_sections": true,
   "sideBar": true,
   "skip_h1_title": false,
   "title_cell": "Table of Contents",
   "title_sidebar": "Contents",
   "toc_cell": false,
   "toc_position": {},
   "toc_section_display": true,
   "toc_window_display": false
  },
  "varInspector": {
   "cols": {
    "lenName": 16,
    "lenType": 16,
    "lenVar": 40
   },
   "kernels_config": {
    "python": {
     "delete_cmd_postfix": "",
     "delete_cmd_prefix": "del ",
     "library": "var_list.py",
     "varRefreshCmd": "print(var_dic_list())"
    },
    "r": {
     "delete_cmd_postfix": ") ",
     "delete_cmd_prefix": "rm(",
     "library": "var_list.r",
     "varRefreshCmd": "cat(var_dic_list()) "
    }
   },
   "types_to_exclude": [
    "module",
    "function",
    "builtin_function_or_method",
    "instance",
    "_Feature"
   ],
   "window_display": false
  }
 },
 "nbformat": 4,
 "nbformat_minor": 5
}
