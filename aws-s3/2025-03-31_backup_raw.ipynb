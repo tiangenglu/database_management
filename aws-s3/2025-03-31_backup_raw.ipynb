{
 "cells": [
  {
   "cell_type": "markdown",
   "id": "3d0236d6",
   "metadata": {},
   "source": [
    "This program bulk uploads raw .txt (converted from .pdf to .txt) monthly visa statistics to AWS S3 bucket folders."
   ]
  },
  {
   "cell_type": "code",
   "execution_count": 1,
   "id": "e653b61b",
   "metadata": {},
   "outputs": [],
   "source": [
    "import os\n",
    "import boto3\n",
    "import pandas as pd\n",
    "import getpass\n",
    "import json # read in dictionary format credentials"
   ]
  },
  {
   "cell_type": "code",
   "execution_count": 2,
   "id": "c33f5c82",
   "metadata": {},
   "outputs": [],
   "source": [
    "with open(\"aws_credential.txt\", 'r') as file:\n",
    "    aws_credential=json.load(file)"
   ]
  },
  {
   "cell_type": "code",
   "execution_count": 3,
   "id": "1d170949",
   "metadata": {},
   "outputs": [],
   "source": [
    "s3=boto3.Session(\n",
    "    profile_name = None, \n",
    "    region_name = 'us-east-2').client(\n",
    "    's3',\n",
    "    aws_access_key_id=aws_credential['access_key'],\n",
    "    aws_secret_access_key=aws_credential['secret_key'])"
   ]
  },
  {
   "cell_type": "code",
   "execution_count": 4,
   "id": "b9c64f9b",
   "metadata": {},
   "outputs": [
    {
     "name": "stdout",
     "output_type": "stream",
     "text": [
      "The bucket currently has 275 objects.\n"
     ]
    }
   ],
   "source": [
    "file_counts=len(s3.list_objects(Bucket = aws_credential['bucket'])['Contents'])\n",
    "print(f'The bucket currently has {file_counts} objects.')"
   ]
  },
  {
   "cell_type": "code",
   "execution_count": 5,
   "id": "a9ef5d06",
   "metadata": {},
   "outputs": [],
   "source": [
    "# full txt path for all txt   \n",
    "niv_txt = 'nivtxt'\n",
    "niv_txt_full = [os.getcwd() + '/' + niv_txt + '/' + txt for txt in sorted(os.listdir(niv_txt))]\n",
    "niv_txt_full = [txt for txt in niv_txt_full if 'niv_' in txt]\n",
    "iv_txt = 'ivtxt'\n",
    "# full txt path for all txt    \n",
    "iv_txt_full = [os.getcwd() + '/' + iv_txt + '/' + txt for txt in sorted(os.listdir(iv_txt))]\n",
    "iv_txt_full = [txt for txt in iv_txt_full if 'iv_' in txt]"
   ]
  },
  {
   "cell_type": "code",
   "execution_count": 6,
   "id": "f5396deb",
   "metadata": {},
   "outputs": [],
   "source": [
    "# safer than simply using os.listdir(path)\n",
    "niv_short=[short.split('/')[-1] for short in niv_txt_full]\n",
    "iv_short = [short.split('/')[-1] for short in iv_txt_full]"
   ]
  },
  {
   "cell_type": "code",
   "execution_count": 8,
   "id": "9eb0d4e2",
   "metadata": {},
   "outputs": [],
   "source": [
    "for index,element in enumerate(niv_txt_full):\n",
    "    with open(element,\"r\") as file:\n",
    "        s3.put_object(Body = file.read(),Bucket=aws_credential['bucket'], Key=('messy_data/visa_scraped/niv/' + niv_short[index]))        "
   ]
  },
  {
   "cell_type": "code",
   "execution_count": 9,
   "id": "2e20ef86",
   "metadata": {},
   "outputs": [],
   "source": [
    "for index,element in enumerate(iv_txt_full):\n",
    "    with open(element,\"r\") as file:\n",
    "        s3.put_object(Body = file.read(),Bucket=aws_credential['bucket'], Key=('messy_data/visa_scraped/iv/' + iv_short[index]))   "
   ]
  },
  {
   "cell_type": "code",
   "execution_count": 10,
   "id": "371417b0",
   "metadata": {},
   "outputs": [
    {
     "data": {
      "text/plain": [
       "['messy_data/visa_scraped/iv/iv_2017-03-31.txt',\n",
       " 'messy_data/visa_scraped/iv/iv_2017-04-30.txt',\n",
       " 'messy_data/visa_scraped/iv/iv_2017-05-31.txt',\n",
       " 'messy_data/visa_scraped/iv/iv_2017-06-30.txt',\n",
       " 'messy_data/visa_scraped/iv/iv_2017-07-31.txt',\n",
       " 'messy_data/visa_scraped/iv/iv_2017-08-31.txt',\n",
       " 'messy_data/visa_scraped/iv/iv_2017-09-30.txt',\n",
       " 'messy_data/visa_scraped/iv/iv_2017-10-31.txt',\n",
       " 'messy_data/visa_scraped/iv/iv_2017-11-30.txt',\n",
       " 'messy_data/visa_scraped/iv/iv_2017-12-31.txt',\n",
       " 'messy_data/visa_scraped/iv/iv_2018-01-31.txt',\n",
       " 'messy_data/visa_scraped/iv/iv_2018-02-28.txt',\n",
       " 'messy_data/visa_scraped/iv/iv_2018-03-31.txt',\n",
       " 'messy_data/visa_scraped/iv/iv_2018-04-30.txt',\n",
       " 'messy_data/visa_scraped/iv/iv_2018-05-31.txt',\n",
       " 'messy_data/visa_scraped/iv/iv_2018-06-30.txt',\n",
       " 'messy_data/visa_scraped/iv/iv_2018-07-31.txt',\n",
       " 'messy_data/visa_scraped/iv/iv_2018-08-31.txt',\n",
       " 'messy_data/visa_scraped/iv/iv_2018-09-30.txt',\n",
       " 'messy_data/visa_scraped/iv/iv_2018-10-31.txt',\n",
       " 'messy_data/visa_scraped/iv/iv_2018-11-30.txt',\n",
       " 'messy_data/visa_scraped/iv/iv_2018-12-31.txt',\n",
       " 'messy_data/visa_scraped/iv/iv_2019-01-31.txt',\n",
       " 'messy_data/visa_scraped/iv/iv_2019-02-28.txt',\n",
       " 'messy_data/visa_scraped/iv/iv_2019-03-31.txt',\n",
       " 'messy_data/visa_scraped/iv/iv_2019-04-30.txt',\n",
       " 'messy_data/visa_scraped/iv/iv_2019-05-31.txt',\n",
       " 'messy_data/visa_scraped/iv/iv_2019-06-30.txt',\n",
       " 'messy_data/visa_scraped/iv/iv_2019-07-31.txt',\n",
       " 'messy_data/visa_scraped/iv/iv_2019-08-31.txt',\n",
       " 'messy_data/visa_scraped/iv/iv_2019-09-30.txt',\n",
       " 'messy_data/visa_scraped/iv/iv_2019-10-31.txt',\n",
       " 'messy_data/visa_scraped/iv/iv_2019-11-30.txt',\n",
       " 'messy_data/visa_scraped/iv/iv_2019-12-31.txt',\n",
       " 'messy_data/visa_scraped/iv/iv_2020-01-31.txt',\n",
       " 'messy_data/visa_scraped/iv/iv_2020-02-29.txt',\n",
       " 'messy_data/visa_scraped/iv/iv_2020-03-31.txt',\n",
       " 'messy_data/visa_scraped/iv/iv_2020-04-30.txt',\n",
       " 'messy_data/visa_scraped/iv/iv_2020-05-31.txt',\n",
       " 'messy_data/visa_scraped/iv/iv_2020-06-30.txt',\n",
       " 'messy_data/visa_scraped/iv/iv_2020-07-31.txt',\n",
       " 'messy_data/visa_scraped/iv/iv_2020-08-31.txt',\n",
       " 'messy_data/visa_scraped/iv/iv_2020-09-30.txt',\n",
       " 'messy_data/visa_scraped/iv/iv_2020-10-31.txt',\n",
       " 'messy_data/visa_scraped/iv/iv_2020-11-30.txt',\n",
       " 'messy_data/visa_scraped/iv/iv_2020-12-31.txt',\n",
       " 'messy_data/visa_scraped/iv/iv_2021-01-31.txt',\n",
       " 'messy_data/visa_scraped/iv/iv_2021-02-28.txt',\n",
       " 'messy_data/visa_scraped/iv/iv_2021-03-31.txt',\n",
       " 'messy_data/visa_scraped/iv/iv_2021-04-30.txt',\n",
       " 'messy_data/visa_scraped/iv/iv_2021-05-31.txt',\n",
       " 'messy_data/visa_scraped/iv/iv_2021-06-30.txt',\n",
       " 'messy_data/visa_scraped/iv/iv_2021-07-31.txt',\n",
       " 'messy_data/visa_scraped/iv/iv_2021-08-31.txt',\n",
       " 'messy_data/visa_scraped/iv/iv_2021-09-30.txt',\n",
       " 'messy_data/visa_scraped/iv/iv_2021-10-31.txt',\n",
       " 'messy_data/visa_scraped/iv/iv_2021-11-30.txt',\n",
       " 'messy_data/visa_scraped/iv/iv_2021-12-31.txt',\n",
       " 'messy_data/visa_scraped/iv/iv_2022-01-31.txt',\n",
       " 'messy_data/visa_scraped/iv/iv_2022-02-28.txt',\n",
       " 'messy_data/visa_scraped/iv/iv_2022-03-31.txt',\n",
       " 'messy_data/visa_scraped/iv/iv_2022-04-30.txt',\n",
       " 'messy_data/visa_scraped/iv/iv_2022-05-31.txt',\n",
       " 'messy_data/visa_scraped/iv/iv_2022-06-30.txt',\n",
       " 'messy_data/visa_scraped/iv/iv_2022-07-31.txt',\n",
       " 'messy_data/visa_scraped/iv/iv_2022-08-31.txt',\n",
       " 'messy_data/visa_scraped/iv/iv_2022-09-30.txt',\n",
       " 'messy_data/visa_scraped/iv/iv_2022-10-31.txt',\n",
       " 'messy_data/visa_scraped/iv/iv_2022-11-30.txt',\n",
       " 'messy_data/visa_scraped/iv/iv_2022-12-31.txt',\n",
       " 'messy_data/visa_scraped/iv/iv_2023-01-31.txt',\n",
       " 'messy_data/visa_scraped/iv/iv_2023-02-28.txt',\n",
       " 'messy_data/visa_scraped/iv/iv_2023-03-31.txt',\n",
       " 'messy_data/visa_scraped/iv/iv_2023-04-30.txt',\n",
       " 'messy_data/visa_scraped/iv/iv_2023-05-31.txt',\n",
       " 'messy_data/visa_scraped/iv/iv_2023-06-30.txt',\n",
       " 'messy_data/visa_scraped/iv/iv_2023-07-31.txt',\n",
       " 'messy_data/visa_scraped/iv/iv_2023-08-31.txt',\n",
       " 'messy_data/visa_scraped/iv/iv_2023-09-30.txt',\n",
       " 'messy_data/visa_scraped/iv/iv_2023-10-31.txt',\n",
       " 'messy_data/visa_scraped/iv/iv_2023-11-30.txt',\n",
       " 'messy_data/visa_scraped/iv/iv_2023-12-31.txt',\n",
       " 'messy_data/visa_scraped/iv/iv_2024-01-31.txt',\n",
       " 'messy_data/visa_scraped/iv/iv_2024-02-29.txt',\n",
       " 'messy_data/visa_scraped/iv/iv_2024-03-31.txt',\n",
       " 'messy_data/visa_scraped/iv/iv_2024-04-30.txt',\n",
       " 'messy_data/visa_scraped/iv/iv_2024-05-31.txt',\n",
       " 'messy_data/visa_scraped/iv/iv_2024-06-30.txt',\n",
       " 'messy_data/visa_scraped/iv/iv_2024-07-31.txt',\n",
       " 'messy_data/visa_scraped/iv/iv_2024-08-31.txt',\n",
       " 'messy_data/visa_scraped/iv/iv_2024-09-30.txt',\n",
       " 'messy_data/visa_scraped/iv/iv_2024-10-31.txt',\n",
       " 'messy_data/visa_scraped/iv/iv_2024-11-30.txt',\n",
       " 'messy_data/visa_scraped/iv/iv_2024-12-31.txt',\n",
       " 'messy_data/visa_scraped/iv/iv_2025-01-31.txt',\n",
       " 'messy_data/visa_scraped/niv/niv_2017-03-31.txt',\n",
       " 'messy_data/visa_scraped/niv/niv_2017-04-30.txt',\n",
       " 'messy_data/visa_scraped/niv/niv_2017-05-31.txt',\n",
       " 'messy_data/visa_scraped/niv/niv_2017-06-30.txt',\n",
       " 'messy_data/visa_scraped/niv/niv_2017-07-31.txt',\n",
       " 'messy_data/visa_scraped/niv/niv_2017-08-31.txt',\n",
       " 'messy_data/visa_scraped/niv/niv_2017-09-30.txt',\n",
       " 'messy_data/visa_scraped/niv/niv_2017-10-31.txt',\n",
       " 'messy_data/visa_scraped/niv/niv_2017-11-30.txt',\n",
       " 'messy_data/visa_scraped/niv/niv_2017-12-31.txt',\n",
       " 'messy_data/visa_scraped/niv/niv_2018-01-31.txt',\n",
       " 'messy_data/visa_scraped/niv/niv_2018-02-28.txt',\n",
       " 'messy_data/visa_scraped/niv/niv_2018-03-31.txt',\n",
       " 'messy_data/visa_scraped/niv/niv_2018-04-30.txt',\n",
       " 'messy_data/visa_scraped/niv/niv_2018-05-31.txt',\n",
       " 'messy_data/visa_scraped/niv/niv_2018-06-30.txt',\n",
       " 'messy_data/visa_scraped/niv/niv_2018-07-31.txt',\n",
       " 'messy_data/visa_scraped/niv/niv_2018-08-31.txt',\n",
       " 'messy_data/visa_scraped/niv/niv_2018-09-30.txt',\n",
       " 'messy_data/visa_scraped/niv/niv_2018-10-31.txt',\n",
       " 'messy_data/visa_scraped/niv/niv_2018-11-30.txt',\n",
       " 'messy_data/visa_scraped/niv/niv_2018-12-31.txt',\n",
       " 'messy_data/visa_scraped/niv/niv_2019-01-31.txt',\n",
       " 'messy_data/visa_scraped/niv/niv_2019-02-28.txt',\n",
       " 'messy_data/visa_scraped/niv/niv_2019-03-31.txt',\n",
       " 'messy_data/visa_scraped/niv/niv_2019-04-30.txt',\n",
       " 'messy_data/visa_scraped/niv/niv_2019-05-31.txt',\n",
       " 'messy_data/visa_scraped/niv/niv_2019-06-30.txt',\n",
       " 'messy_data/visa_scraped/niv/niv_2019-07-31.txt',\n",
       " 'messy_data/visa_scraped/niv/niv_2019-08-31.txt',\n",
       " 'messy_data/visa_scraped/niv/niv_2019-09-30.txt',\n",
       " 'messy_data/visa_scraped/niv/niv_2019-10-31.txt',\n",
       " 'messy_data/visa_scraped/niv/niv_2019-11-30.txt',\n",
       " 'messy_data/visa_scraped/niv/niv_2019-12-31.txt',\n",
       " 'messy_data/visa_scraped/niv/niv_2020-01-31.txt',\n",
       " 'messy_data/visa_scraped/niv/niv_2020-02-29.txt',\n",
       " 'messy_data/visa_scraped/niv/niv_2020-03-31.txt',\n",
       " 'messy_data/visa_scraped/niv/niv_2020-04-30.txt',\n",
       " 'messy_data/visa_scraped/niv/niv_2020-05-31.txt',\n",
       " 'messy_data/visa_scraped/niv/niv_2020-06-30.txt',\n",
       " 'messy_data/visa_scraped/niv/niv_2020-07-31.txt',\n",
       " 'messy_data/visa_scraped/niv/niv_2020-08-31.txt',\n",
       " 'messy_data/visa_scraped/niv/niv_2020-09-30.txt',\n",
       " 'messy_data/visa_scraped/niv/niv_2020-10-31.txt',\n",
       " 'messy_data/visa_scraped/niv/niv_2020-11-30.txt',\n",
       " 'messy_data/visa_scraped/niv/niv_2020-12-31.txt',\n",
       " 'messy_data/visa_scraped/niv/niv_2021-01-31.txt',\n",
       " 'messy_data/visa_scraped/niv/niv_2021-02-28.txt',\n",
       " 'messy_data/visa_scraped/niv/niv_2021-03-31.txt',\n",
       " 'messy_data/visa_scraped/niv/niv_2021-04-30.txt',\n",
       " 'messy_data/visa_scraped/niv/niv_2021-05-31.txt',\n",
       " 'messy_data/visa_scraped/niv/niv_2021-06-30.txt',\n",
       " 'messy_data/visa_scraped/niv/niv_2021-07-31.txt',\n",
       " 'messy_data/visa_scraped/niv/niv_2021-08-31.txt',\n",
       " 'messy_data/visa_scraped/niv/niv_2021-09-30.txt',\n",
       " 'messy_data/visa_scraped/niv/niv_2021-10-31.txt',\n",
       " 'messy_data/visa_scraped/niv/niv_2021-11-30.txt',\n",
       " 'messy_data/visa_scraped/niv/niv_2021-12-31.txt',\n",
       " 'messy_data/visa_scraped/niv/niv_2022-01-31.txt',\n",
       " 'messy_data/visa_scraped/niv/niv_2022-02-28.txt',\n",
       " 'messy_data/visa_scraped/niv/niv_2022-03-31.txt',\n",
       " 'messy_data/visa_scraped/niv/niv_2022-04-30.txt',\n",
       " 'messy_data/visa_scraped/niv/niv_2022-05-31.txt',\n",
       " 'messy_data/visa_scraped/niv/niv_2022-06-30.txt',\n",
       " 'messy_data/visa_scraped/niv/niv_2022-07-31.txt',\n",
       " 'messy_data/visa_scraped/niv/niv_2022-08-31.txt',\n",
       " 'messy_data/visa_scraped/niv/niv_2022-09-30.txt',\n",
       " 'messy_data/visa_scraped/niv/niv_2022-10-31.txt',\n",
       " 'messy_data/visa_scraped/niv/niv_2022-11-30.txt',\n",
       " 'messy_data/visa_scraped/niv/niv_2022-12-31.txt',\n",
       " 'messy_data/visa_scraped/niv/niv_2023-01-31.txt',\n",
       " 'messy_data/visa_scraped/niv/niv_2023-02-28.txt',\n",
       " 'messy_data/visa_scraped/niv/niv_2023-03-31.txt',\n",
       " 'messy_data/visa_scraped/niv/niv_2023-04-30.txt',\n",
       " 'messy_data/visa_scraped/niv/niv_2023-05-31.txt',\n",
       " 'messy_data/visa_scraped/niv/niv_2023-06-30.txt',\n",
       " 'messy_data/visa_scraped/niv/niv_2023-07-31.txt',\n",
       " 'messy_data/visa_scraped/niv/niv_2023-08-31.txt',\n",
       " 'messy_data/visa_scraped/niv/niv_2023-09-30.txt',\n",
       " 'messy_data/visa_scraped/niv/niv_2023-10-31.txt',\n",
       " 'messy_data/visa_scraped/niv/niv_2023-11-30.txt',\n",
       " 'messy_data/visa_scraped/niv/niv_2023-12-31.txt',\n",
       " 'messy_data/visa_scraped/niv/niv_2024-01-31.txt',\n",
       " 'messy_data/visa_scraped/niv/niv_2024-02-29.txt',\n",
       " 'messy_data/visa_scraped/niv/niv_2024-03-31.txt',\n",
       " 'messy_data/visa_scraped/niv/niv_2024-04-30.txt',\n",
       " 'messy_data/visa_scraped/niv/niv_2024-05-31.txt',\n",
       " 'messy_data/visa_scraped/niv/niv_2024-06-30.txt',\n",
       " 'messy_data/visa_scraped/niv/niv_2024-07-31.txt',\n",
       " 'messy_data/visa_scraped/niv/niv_2024-08-31.txt',\n",
       " 'messy_data/visa_scraped/niv/niv_2024-09-30.txt',\n",
       " 'messy_data/visa_scraped/niv/niv_2024-10-31.txt',\n",
       " 'messy_data/visa_scraped/niv/niv_2024-11-30.txt',\n",
       " 'messy_data/visa_scraped/niv/niv_2024-12-31.txt',\n",
       " 'messy_data/visa_scraped/niv/niv_2025-01-31.txt']"
      ]
     },
     "execution_count": 10,
     "metadata": {},
     "output_type": "execute_result"
    }
   ],
   "source": [
    "[d['Key'] for d in \n",
    " s3.list_objects(Bucket = aws_credential['bucket'], \n",
    "                 Prefix = 'messy_data/visa_scraped')['Contents']]"
   ]
  },
  {
   "cell_type": "code",
   "execution_count": 11,
   "id": "36a1cb64",
   "metadata": {},
   "outputs": [
    {
     "name": "stdout",
     "output_type": "stream",
     "text": [
      "The bucket currently has 275 objects.\n"
     ]
    }
   ],
   "source": [
    "new_file_counts=len(s3.list_objects(Bucket = aws_credential['bucket'])['Contents'])\n",
    "print(f'The bucket currently has {new_file_counts} objects.')"
   ]
  }
 ],
 "metadata": {
  "hide_input": false,
  "kernelspec": {
   "display_name": "py-3-12-3-preview",
   "language": "python",
   "name": "python-312-preview"
  },
  "language_info": {
   "codemirror_mode": {
    "name": "ipython",
    "version": 3
   },
   "file_extension": ".py",
   "mimetype": "text/x-python",
   "name": "python",
   "nbconvert_exporter": "python",
   "pygments_lexer": "ipython3",
   "version": "3.12.3"
  },
  "toc": {
   "base_numbering": 1,
   "nav_menu": {},
   "number_sections": true,
   "sideBar": true,
   "skip_h1_title": false,
   "title_cell": "Table of Contents",
   "title_sidebar": "Contents",
   "toc_cell": false,
   "toc_position": {},
   "toc_section_display": true,
   "toc_window_display": false
  },
  "varInspector": {
   "cols": {
    "lenName": 16,
    "lenType": 16,
    "lenVar": 40
   },
   "kernels_config": {
    "python": {
     "delete_cmd_postfix": "",
     "delete_cmd_prefix": "del ",
     "library": "var_list.py",
     "varRefreshCmd": "print(var_dic_list())"
    },
    "r": {
     "delete_cmd_postfix": ") ",
     "delete_cmd_prefix": "rm(",
     "library": "var_list.r",
     "varRefreshCmd": "cat(var_dic_list()) "
    }
   },
   "types_to_exclude": [
    "module",
    "function",
    "builtin_function_or_method",
    "instance",
    "_Feature"
   ],
   "window_display": false
  }
 },
 "nbformat": 4,
 "nbformat_minor": 5
}
